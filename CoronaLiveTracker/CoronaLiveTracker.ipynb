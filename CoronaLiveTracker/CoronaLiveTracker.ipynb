{
 "cells": [
  {
   "cell_type": "raw",
   "metadata": {},
   "source": [
    "# Structure \n",
    "# 1. First Dictionary - Active Cases\n",
    "    # Count: Number\n",
    "    # MildCondition: Number\n",
    "    # SeriousCondition: Number\n",
    "# 2. Second Dictionary - Closed Cases\n",
    "    # Count: Number\n",
    "    # MildCondition: Number\n",
    "    # SeriousCondition: Numberd"
   ]
  },
  {
   "cell_type": "code",
   "execution_count": 2,
   "metadata": {},
   "outputs": [],
   "source": [
    "import requests as req \n",
    "from bs4 import BeautifulSoup\n",
    "import datetime\n",
    "import time\n",
    "import numpy as np\n",
    "import pandas as pd\n",
    "import matplotlib.pyplot as plt"
   ]
  },
  {
   "cell_type": "code",
   "execution_count": 13,
   "metadata": {},
   "outputs": [
    {
     "name": "stdout",
     "output_type": "stream",
     "text": [
      "  (Country,Other,) (TotalCases,) (NewCases,) (TotalDeaths,) (NewDeaths,)  \\\n",
      "0           China         80,881        +21          3,226          +13    \n",
      "1           Italy         27,980                     2,158                 \n",
      "2            Iran         14,991                       853                 \n",
      "3           Spain          9,942                       342                 \n",
      "4        S. Korea          8,320        +84             81           +6    \n",
      "\n",
      "  (TotalRecovered,) (ActiveCases,) (Serious,Critical,) (Tot Cases/1M pop,)  \n",
      "0           68,688          8,967               3,226                 56.2  \n",
      "1            2,749         23,073               1,851                       \n",
      "2            4,996          9,142                                    178.5  \n",
      "3              530          9,070                 272                212.6  \n",
      "4            1,401          6,838                  59                162.3  \n"
     ]
    },
    {
     "data": {
      "image/png": "[encoded data removed]",
      "text/plain": [
       "<Figure size 432x288 with 1 Axes>"
      ]
     },
     "metadata": {
      "needs_background": "light"
     },
     "output_type": "display_data"
    }
   ],
   "source": [
    "class CoronaAnalysis:\n",
    "    def __init__(self):\n",
    "        self._ActiveCases = {}\n",
    "        self._ClosedCases = {}\n",
    "        self._div_container = []\n",
    "        self._countRespectives = []\n",
    "        self._numberTables = []\n",
    "        self._file = open(\"corono.txt\", \"a+\")\n",
    "        self._soup = \"\"\n",
    "        response = req.get(\"https://www.worldometers.info/coronavirus/\")\n",
    "        self._soup = BeautifulSoup(response.text, \"html.parser\")\n",
    "        \n",
    "    def dataCapture(self):\n",
    "        self._div_container = self._soup.findAll(\"div\", {'class', 'panel panel-default'})\n",
    "        self._countRespectives = self._soup.findAll(\"div\", {\"class\", \"number-table-main\"})\n",
    "        self._numberTables = self._soup.findAll(\"span\", {\"class\", \"number-table\"})\n",
    "    \n",
    "    def activeCases(self):\n",
    "        self.dataCapture()\n",
    "        self._ActiveCases[\"Count\"] = self._countRespectives[0].text\n",
    "        self._ActiveCases[\"MildCondition\"] = self._numberTables[0].text\n",
    "        self._ActiveCases[\"SeriousCondition\"] = self._numberTables[1].text\n",
    "        print(self._ActiveCases)\n",
    "    \n",
    "    def closedCases(self):\n",
    "        self.dataCapture()\n",
    "        self._ClosedCases[\"Count\"] = self._countRespectives[1].text\n",
    "        self._ClosedCases[\"MildCondition\"] = self._numberTables[2].text\n",
    "        self._ClosedCases[\"SeriousCondition\"] = self._numberTables[3].text            \n",
    "    \n",
    "    def storage(self):\n",
    "        self.activeCases()\n",
    "        self.closedCases()\n",
    "        user_time = int(input(\"Enter time till which you want to monitor virus counts: \"))\n",
    "        for intervals in range(user_time * 2):\n",
    "            time.sleep(30)\n",
    "            temporal_store = \"\"\n",
    "            temporal_store += \"Active Cases: \" + str(self._ActiveCases)  + \"\\n\" + \"ClosedCases: \" + str(self._ClosedCases) + \"\\n\\n\"\n",
    "            print(temporal_store)\n",
    "            self._file.write(temporal_store)\n",
    "        self._file.close()\n",
    "        return True\n",
    "    \n",
    "    def dataAnalysis(self):\n",
    "        feature_names = []\n",
    "        tables = self._soup.findAll('table', {'class', 'table'})\n",
    "        column_names = tables[0].findAll('th')\n",
    "        for th in column_names:\n",
    "            feature_names.append(th.text)\n",
    "        feature_names = np.array([feature_names])\n",
    "        table_bodies = tables[0].findAll('tbody')\n",
    "        rows_data = table_bodies[0].findAll('tr')\n",
    "        \n",
    "        collective_rows = []\n",
    "        for tr in rows_data:\n",
    "            current_row = []\n",
    "            for td in tr.findAll('td'):\n",
    "                current_row.append(td.text)\n",
    "            collective_rows.append(current_row)\n",
    "        collective_rows = np.array(collective_rows)\n",
    "        data = pd.DataFrame(collective_rows, columns=feature_names.reshape(-1, 1))\n",
    "        plt.bar(data[\"Country,Other\",], data[\"TotalDeaths\",])\n",
    "        print(data.head())\n",
    "        \n",
    "Object = CoronaAnalysis()\n",
    "Object.dataAnalysis()"
   ]
  },
  {
   "cell_type": "code",
   "execution_count": null,
   "metadata": {},
   "outputs": [],
   "source": []
  }
 ],
 "metadata": {
  "kernelspec": {
   "display_name": "Python 3",
   "language": "python",
   "name": "python3"
  },
  "language_info": {
   "codemirror_mode": {
    "name": "ipython",
    "version": 3
   },
   "file_extension": ".py",
   "mimetype": "text/x-python",
   "name": "python",
   "nbconvert_exporter": "python",
   "pygments_lexer": "ipython3",
   "version": "3.7.4"
  }
 },
 "nbformat": 4,
 "nbformat_minor": 2
}
